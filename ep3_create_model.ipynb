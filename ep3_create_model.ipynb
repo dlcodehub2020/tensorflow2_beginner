{
 "cells": [
  {
   "cell_type": "code",
   "execution_count": null,
   "metadata": {},
   "outputs": [],
   "source": [
    " #  Copyright 2020 dlcodehub2020@github.com\n",
    "\n",
    " #  Licensed under the Apache License, Version 2.0 (the \"License\");\n",
    " #  you may not use this file except in compliance with the License.\n",
    " #  You may obtain a copy of the License at\n",
    "\n",
    " #     http://www.apache.org/licenses/LICENSE-2.0\n",
    "\n",
    " #  Unless required by applicable law or agreed to in writing, software\n",
    " #  distributed under the License is distributed on an \"AS IS\" BASIS,\n",
    " #  WITHOUT WARRANTIES OR CONDITIONS OF ANY KIND, either express or implied.\n",
    " #  See the License for the specific language governing permissions and\n",
    " #  limitations under the License."
   ]
  },
  {
   "cell_type": "markdown",
   "metadata": {},
   "source": [
    "Tensorflow2 provides users with 3 ways to implement thier networks.\n",
    "\n",
    "   1. Sequencial Model\n",
    "   2. Functional API\n",
    "   3. Subclassing\n",
    "\n",
    "For the beginner tutorials, we mainly focus on the Sequencial Model and Functional API.\n",
    "Sequencial Model is a stack of layers (a linear model), only one input tensor and one output tensor.\n",
    "Functional API is more flexible, non-linear, can take multiple inputs and outputs."
   ]
  },
  {
   "cell_type": "code",
   "execution_count": 8,
   "metadata": {},
   "outputs": [],
   "source": [
    "import tensorflow as tf\n",
    "from tensorflow import keras\n",
    "from tensorflow.keras import layers"
   ]
  },
  {
   "cell_type": "markdown",
   "metadata": {},
   "source": [
    "We first have a look of Sequencial Model."
   ]
  },
  {
   "cell_type": "code",
   "execution_count": 4,
   "metadata": {},
   "outputs": [],
   "source": [
    "# Now we define a 4 layers simple sequencial model \n",
    "model = keras.Sequential(\n",
    "    [\n",
    "        layers.Dense(2, activation=\"relu\", name=\"firstLayer\"),\n",
    "        layers.Dense(3, activation=\"relu\", name=\"secondLayer\"),\n",
    "        layers.Dense(3, activation=\"relu\", name=\"thirdLayer\"),\n",
    "        layers.Dense(4, name=\"fourthLayer\"),\n",
    "    ]\n",
    ")\n",
    "# here we define an input tensor \"input_x\"\n",
    "# as we metioned before, sequencial model takes exact one input and one output tensor\n",
    "# it dose not support multiple inputs or outputs.\n",
    "input_x = tf.ones((3, 3))\n",
    "y = model(input_x)"
   ]
  },
  {
   "cell_type": "code",
   "execution_count": 5,
   "metadata": {},
   "outputs": [
    {
     "name": "stdout",
     "output_type": "stream",
     "text": [
      "Model: \"sequential_1\"\n",
      "_________________________________________________________________\n",
      "Layer (type)                 Output Shape              Param #   \n",
      "=================================================================\n",
      "firstLayer (Dense)           (3, 2)                    8         \n",
      "_________________________________________________________________\n",
      "secondLayer (Dense)          (3, 3)                    9         \n",
      "_________________________________________________________________\n",
      "thirdLayer (Dense)           (3, 3)                    12        \n",
      "_________________________________________________________________\n",
      "fourthLayer (Dense)          (3, 4)                    16        \n",
      "=================================================================\n",
      "Total params: 45\n",
      "Trainable params: 45\n",
      "Non-trainable params: 0\n",
      "_________________________________________________________________\n"
     ]
    }
   ],
   "source": [
    "# model.summary() is a quite usefull funtion, it allows us to view the structure of our network.\n",
    "model.summary()"
   ]
  },
  {
   "cell_type": "markdown",
   "metadata": {},
   "source": [
    "We have another way to write our sequencial model."
   ]
  },
  {
   "cell_type": "code",
   "execution_count": 7,
   "metadata": {},
   "outputs": [
    {
     "name": "stdout",
     "output_type": "stream",
     "text": [
      "Model: \"sequential_3\"\n",
      "_________________________________________________________________\n",
      "Layer (type)                 Output Shape              Param #   \n",
      "=================================================================\n",
      "dense_4 (Dense)              (None, 3, 2)              8         \n",
      "_________________________________________________________________\n",
      "dense_5 (Dense)              (None, 3, 3)              9         \n",
      "_________________________________________________________________\n",
      "dense_6 (Dense)              (None, 3, 3)              12        \n",
      "_________________________________________________________________\n",
      "dense_7 (Dense)              (None, 3, 4)              16        \n",
      "=================================================================\n",
      "Total params: 45\n",
      "Trainable params: 45\n",
      "Non-trainable params: 0\n",
      "_________________________________________________________________\n"
     ]
    }
   ],
   "source": [
    "model = keras.Sequential()\n",
    "model.add(keras.Input(shape=(3,3)))\n",
    "model.add(layers.Dense(2, activation=\"relu\"))\n",
    "model.add(layers.Dense(3, activation=\"relu\"))\n",
    "model.add(layers.Dense(3, activation=\"relu\"))\n",
    "model.add(layers.Dense(4))\n",
    "\n",
    "model.summary()"
   ]
  },
  {
   "cell_type": "markdown",
   "metadata": {},
   "source": [
    "Now, we know how to create a basic seqeuncial network. So can we create a same model with Functional API? YES!"
   ]
  },
  {
   "cell_type": "code",
   "execution_count": 10,
   "metadata": {},
   "outputs": [
    {
     "name": "stdout",
     "output_type": "stream",
     "text": [
      "Model: \"functional_3\"\n",
      "_________________________________________________________________\n",
      "Layer (type)                 Output Shape              Param #   \n",
      "=================================================================\n",
      "input_4 (InputLayer)         [(None, 3, 3)]            0         \n",
      "_________________________________________________________________\n",
      "dense_12 (Dense)             (None, 3, 2)              8         \n",
      "_________________________________________________________________\n",
      "dense_13 (Dense)             (None, 3, 3)              9         \n",
      "_________________________________________________________________\n",
      "dense_14 (Dense)             (None, 3, 3)              12        \n",
      "_________________________________________________________________\n",
      "dense_15 (Dense)             (None, 3, 4)              16        \n",
      "=================================================================\n",
      "Total params: 45\n",
      "Trainable params: 45\n",
      "Non-trainable params: 0\n",
      "_________________________________________________________________\n"
     ]
    }
   ],
   "source": [
    "#identify the input layer\n",
    "inputs = keras.Input(shape=(3,3))\n",
    "\n",
    "# then add dense layers \n",
    "dense = layers.Dense(2, activation=\"relu\")\n",
    "x = dense(inputs)\n",
    "x = layers.Dense(3, activation=\"relu\")(x)\n",
    "x = layers.Dense(3, activation=\"relu\")(x)\n",
    "outputs = layers.Dense(4)(x)\n",
    "\n",
    "\n",
    "model = keras.Model(inputs=inputs, outputs=outputs)\n",
    "\n",
    "model.summary()"
   ]
  },
  {
   "cell_type": "markdown",
   "metadata": {},
   "source": [
    "TIPS: So when should we use Sequential Model or Functional API? \n",
    "Clearly, the above model is a linear model, there is only one input and one output. \n",
    "In this case, we can choose sequential model. For example, for transfer learning, we train a model based on an existed one. There is an sequecial relationship between the pretrained model and our new one. Therefore, it is very ideal to use a sequencail model. \n",
    "However, some cases, we have multiple input and output, such as multitask learning. \n",
    "There will be multiple inputs and outputs. Then we would want to select Fuctional API instead of Sequential Model."
   ]
  },
  {
   "cell_type": "code",
   "execution_count": null,
   "metadata": {},
   "outputs": [],
   "source": []
  }
 ],
 "metadata": {
  "kernelspec": {
   "display_name": "tutorial",
   "language": "python",
   "name": "tutorial"
  },
  "language_info": {
   "codemirror_mode": {
    "name": "ipython",
    "version": 3
   },
   "file_extension": ".py",
   "mimetype": "text/x-python",
   "name": "python",
   "nbconvert_exporter": "python",
   "pygments_lexer": "ipython3",
   "version": "3.6.10"
  }
 },
 "nbformat": 4,
 "nbformat_minor": 4
}
