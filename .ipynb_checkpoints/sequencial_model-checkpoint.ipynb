{
 "cells": [
  {
   "cell_type": "markdown",
   "metadata": {},
   "source": [
    "Tensorflow2 provides users with 3 ways to implement thier networks.\n",
    "\n",
    "1. Sequencial Model\n",
    "2. Functional API\n",
    "3. Subclassing\n",
    "\n",
    "For the beginner tutorials, we mainly focus on the Sequencial Model.\n",
    "\n",
    "Sequencial Model is a stack of layers, only one input tensor and one output tensor."
   ]
  },
  {
   "cell_type": "code",
   "execution_count": 1,
   "metadata": {},
   "outputs": [],
   "source": [
    "import tensorflow as tf\n",
    "from tensorflow import keras\n",
    "from tensorflow.keras import layers"
   ]
  },
  {
   "cell_type": "code",
   "execution_count": 4,
   "metadata": {},
   "outputs": [],
   "source": [
    "# Now we define a 4 layers simple sequencial model \n",
    "model = keras.Sequential(\n",
    "    [\n",
    "        layers.Dense(2, activation=\"relu\", name=\"firstLayer\"),\n",
    "        layers.Dense(3, activation=\"relu\", name=\"secondLayer\"),\n",
    "        layers.Dense(3, activation=\"relu\", name=\"thirdLayer\"),\n",
    "        layers.Dense(4, name=\"fourthLayer\"),\n",
    "    ]\n",
    ")\n",
    "# here we define an input tensor \"input_x\"\n",
    "# as we metioned before, sequencial model takes exact one input and one output tensor\n",
    "# it dose not support multiple inputs or outputs.\n",
    "input_x = tf.ones((3, 3))\n",
    "y = model(input_x)"
   ]
  },
  {
   "cell_type": "code",
   "execution_count": 5,
   "metadata": {},
   "outputs": [
    {
     "name": "stdout",
     "output_type": "stream",
     "text": [
      "Model: \"sequential_1\"\n",
      "_________________________________________________________________\n",
      "Layer (type)                 Output Shape              Param #   \n",
      "=================================================================\n",
      "firstLayer (Dense)           (3, 2)                    8         \n",
      "_________________________________________________________________\n",
      "secondLayer (Dense)          (3, 3)                    9         \n",
      "_________________________________________________________________\n",
      "thirdLayer (Dense)           (3, 3)                    12        \n",
      "_________________________________________________________________\n",
      "fourthLayer (Dense)          (3, 4)                    16        \n",
      "=================================================================\n",
      "Total params: 45\n",
      "Trainable params: 45\n",
      "Non-trainable params: 0\n",
      "_________________________________________________________________\n"
     ]
    }
   ],
   "source": [
    "# model.summary() is a quite usefull funtion, it allows us to view the structure of our network.\n",
    "model.summary()"
   ]
  },
  {
   "cell_type": "markdown",
   "metadata": {},
   "source": [
    "We have another way to write our sequencial model."
   ]
  },
  {
   "cell_type": "code",
   "execution_count": 7,
   "metadata": {},
   "outputs": [
    {
     "name": "stdout",
     "output_type": "stream",
     "text": [
      "Model: \"sequential_3\"\n",
      "_________________________________________________________________\n",
      "Layer (type)                 Output Shape              Param #   \n",
      "=================================================================\n",
      "dense_4 (Dense)              (None, 3, 2)              8         \n",
      "_________________________________________________________________\n",
      "dense_5 (Dense)              (None, 3, 3)              9         \n",
      "_________________________________________________________________\n",
      "dense_6 (Dense)              (None, 3, 3)              12        \n",
      "_________________________________________________________________\n",
      "dense_7 (Dense)              (None, 3, 4)              16        \n",
      "=================================================================\n",
      "Total params: 45\n",
      "Trainable params: 45\n",
      "Non-trainable params: 0\n",
      "_________________________________________________________________\n"
     ]
    }
   ],
   "source": [
    "model = keras.Sequential()\n",
    "model.add(keras.Input(shape=(3,3)))\n",
    "model.add(layers.Dense(2, activation=\"relu\"))\n",
    "model.add(layers.Dense(3, activation=\"relu\"))\n",
    "model.add(layers.Dense(3, activation=\"relu\"))\n",
    "model.add(layers.Dense(4))\n",
    "\n",
    "model.summary()"
   ]
  },
  {
   "cell_type": "markdown",
   "metadata": {},
   "source": [
    "Now, we know how to create a basic seqeuncial network. Let's have a look how to use it."
   ]
  },
  {
   "cell_type": "code",
   "execution_count": null,
   "metadata": {},
   "outputs": [],
   "source": [
    "inputs = keras.Input(shape=(3,3))\n"
   ]
  }
 ],
 "metadata": {
  "kernelspec": {
   "display_name": "tutorial",
   "language": "python",
   "name": "tutorial"
  },
  "language_info": {
   "codemirror_mode": {
    "name": "ipython",
    "version": 3
   },
   "file_extension": ".py",
   "mimetype": "text/x-python",
   "name": "python",
   "nbconvert_exporter": "python",
   "pygments_lexer": "ipython3",
   "version": "3.6.10"
  }
 },
 "nbformat": 4,
 "nbformat_minor": 4
}
